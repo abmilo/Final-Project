{
 "cells": [
  {
   "cell_type": "markdown",
   "metadata": {},
   "source": [
    "# Final Project: by Ibrahim miloua\n"
   ]
  },
  {
   "cell_type": "markdown",
   "metadata": {},
   "source": [
    "As a group we were interested in finding the best neighborhood in pittsburgh where it would be best to raise a child. We defined best as atributes were it would be most benefital for the child as having close proximity to hospitals, walkibility, and low crime rates."
   ]
  },
  {
   "cell_type": "markdown",
   "metadata": {},
   "source": [
    "### Walkability"
   ]
  },
  {
   "cell_type": "markdown",
   "metadata": {},
   "source": [
    "Using the Sidewalk to Street \"Walkability\" Ratio dataset found on WPRDC, we found it \"more benefital\" that streets with a side walk : street ratio closer to 1 were better for raising a family since dog walks would be more convienent. A ratio of close or at 1 meant that the streets were the same length as the sidewalks, thus being best suited for raising children, since walking on streets without sidewalks are quite the risk. Walkibity accounted for this ratio didnt include trails or stairs as this dataset was dealing mostly with sidewalks."
   ]
  },
  {
   "cell_type": "code",
   "execution_count": 5,
   "metadata": {},
   "outputs": [
    {
     "data": {
      "text/html": [
       "<div>\n",
       "<style scoped>\n",
       "    .dataframe tbody tr th:only-of-type {\n",
       "        vertical-align: middle;\n",
       "    }\n",
       "\n",
       "    .dataframe tbody tr th {\n",
       "        vertical-align: top;\n",
       "    }\n",
       "\n",
       "    .dataframe thead th {\n",
       "        text-align: right;\n",
       "    }\n",
       "</style>\n",
       "<table border=\"1\" class=\"dataframe\">\n",
       "  <thead>\n",
       "    <tr style=\"text-align: right;\">\n",
       "      <th></th>\n",
       "      <th>GEOID</th>\n",
       "      <th>NAMELSAD</th>\n",
       "      <th>SidewalkStepLFt</th>\n",
       "      <th>StreetLFt</th>\n",
       "      <th>Ratio</th>\n",
       "    </tr>\n",
       "  </thead>\n",
       "  <tbody>\n",
       "    <tr>\n",
       "      <th>0</th>\n",
       "      <td>420030103001</td>\n",
       "      <td>Block Group 1</td>\n",
       "      <td>13392.83310</td>\n",
       "      <td>30315.86390</td>\n",
       "      <td>0.441776</td>\n",
       "    </tr>\n",
       "    <tr>\n",
       "      <th>1</th>\n",
       "      <td>420030103002</td>\n",
       "      <td>Block Group 2</td>\n",
       "      <td>31944.47597</td>\n",
       "      <td>20586.79493</td>\n",
       "      <td>1.551697</td>\n",
       "    </tr>\n",
       "    <tr>\n",
       "      <th>2</th>\n",
       "      <td>420030103003</td>\n",
       "      <td>Block Group 3</td>\n",
       "      <td>18655.20798</td>\n",
       "      <td>12122.70024</td>\n",
       "      <td>1.538866</td>\n",
       "    </tr>\n",
       "    <tr>\n",
       "      <th>3</th>\n",
       "      <td>420030103004</td>\n",
       "      <td>Block Group 4</td>\n",
       "      <td>14456.19616</td>\n",
       "      <td>11567.62831</td>\n",
       "      <td>1.249711</td>\n",
       "    </tr>\n",
       "    <tr>\n",
       "      <th>4</th>\n",
       "      <td>420030201001</td>\n",
       "      <td>Block Group 1</td>\n",
       "      <td>43952.94811</td>\n",
       "      <td>24426.52459</td>\n",
       "      <td>1.799394</td>\n",
       "    </tr>\n",
       "  </tbody>\n",
       "</table>\n",
       "</div>"
      ],
      "text/plain": [
       "          GEOID       NAMELSAD  SidewalkStepLFt    StreetLFt     Ratio\n",
       "0  420030103001  Block Group 1      13392.83310  30315.86390  0.441776\n",
       "1  420030103002  Block Group 2      31944.47597  20586.79493  1.551697\n",
       "2  420030103003  Block Group 3      18655.20798  12122.70024  1.538866\n",
       "3  420030103004  Block Group 4      14456.19616  11567.62831  1.249711\n",
       "4  420030201001  Block Group 1      43952.94811  24426.52459  1.799394"
      ]
     },
     "execution_count": 5,
     "metadata": {},
     "output_type": "execute_result"
    }
   ],
   "source": [
    "import pandas as pd\n",
    "%matplotlib inline\n",
    "import matplotlib.pyplot as plt\n",
    "\n",
    "# this is a 30 day Blotter Data of crimes in pittsburgh\n",
    "# https://data.wprdc.org/dataset/sidewalk-to-street-walkability-ratio\n",
    "df = pd.read_csv(\"walk.csv\")\n",
    "df.head(5)"
   ]
  },
  {
   "cell_type": "markdown",
   "metadata": {},
   "source": [
    "This is what the dataset looks like. We are given lengths of side walks and street lengths, as well as the ratio of the two."
   ]
  },
  {
   "cell_type": "code",
   "execution_count": 6,
   "metadata": {},
   "outputs": [
    {
     "data": {
      "image/png": "[encoded data removed]",
      "text/plain": [
       "<Figure size 432x288 with 1 Axes>"
      ]
     },
     "metadata": {
      "needs_background": "light"
     },
     "output_type": "display_data"
    }
   ],
   "source": [
    "df[\"StreetLFt\"].plot.density()\n",
    "df[\"SidewalkStepLFt\"].plot.density(title = \"Length disparity of Street and Sidewalk\",)\n",
    "plt.style.use(\"seaborn\")"
   ]
  },
  {
   "cell_type": "markdown",
   "metadata": {},
   "source": [
    "As the dataset didn't give an exact location. This density graph allows us to visualize the ratio of steets to sidewalk lengths, showing that blue line as sidewalk length and green as street length. \n",
    "What can we pull from his data? We can see that most of the time that street length is greater than sidewalk length."
   ]
  },
  {
   "cell_type": "code",
   "execution_count": 3,
   "metadata": {},
   "outputs": [
    {
     "data": {
      "text/plain": [
       "0.890990754986363"
      ]
     },
     "execution_count": 3,
     "metadata": {},
     "output_type": "execute_result"
    },
    {
     "data": {
      "image/png": "[encoded data removed]",
      "text/plain": [
       "<Figure size 576x396 with 1 Axes>"
      ]
     },
     "metadata": {},
     "output_type": "display_data"
    }
   ],
   "source": [
    "df[\"Ratio\"].plot(kind= \"hist\",bins=50,title=\"Ratios of street:sidewalk\",)\n",
    "plt.style.use(\"seaborn\")\n",
    "df[\"Ratio\"].mean()"
   ]
  },
  {
   "cell_type": "markdown",
   "metadata": {},
   "source": [
    "This is a histogram of the ratios between Sidewalk & Street Length. We see that most approximately 270 of the counts are close to if not 0 so alot of streets have no sidewalks. On the bright side we also see a lot of counts of data clumps center at around the 1 \"Which is great!\" This tells us that a lot of entrys have as much walkwalk length as road length and we can tell thats true from calculating the mean of the ratios which is found to be equal to 0.891. This is quite ideal since on average a street is 89% walkable."
   ]
  },
  {
   "cell_type": "markdown",
   "metadata": {},
   "source": [
    "# So which neigborhood has the best walkablity?"
   ]
  },
  {
   "cell_type": "markdown",
   "metadata": {},
   "source": [
    "<img src=\"smaller.jpg\"/>"
   ]
  },
  {
   "cell_type": "markdown",
   "metadata": {},
   "source": [
    "In conclusion, from the aerial map view of the Allegehny County, areas highlighted yellow signifiy that they have sidewalks/steps walkablility. The higher density of yellow patches tells us that it's better to live there and areas with low yellow density are probably not the right place to raise a family. We see Pittsburgh, namely most of streets contain some sort of side walk/street which tells us that this is probably the best area for raising a child. Close contenders include Oakmond, Springdale Township, Moon Township and West Mifflin."
   ]
  },
  {
   "cell_type": "code",
   "execution_count": null,
   "metadata": {},
   "outputs": [],
   "source": []
  }
 ],
 "metadata": {
  "kernelspec": {
   "display_name": "Python 3",
   "language": "python",
   "name": "python3"
  },
  "language_info": {
   "codemirror_mode": {
    "name": "ipython",
    "version": 3
   },
   "file_extension": ".py",
   "mimetype": "text/x-python",
   "name": "python",
   "nbconvert_exporter": "python",
   "pygments_lexer": "ipython3",
   "version": "3.8.3"
  }
 },
 "nbformat": 4,
 "nbformat_minor": 4
}
